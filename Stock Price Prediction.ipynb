{
 "cells": [
  {
   "cell_type": "code",
   "execution_count": 36,
   "id": "e650ed14",
   "metadata": {},
   "outputs": [],
   "source": [
    "import os\n",
    "import numpy as np\n",
    "import pandas as pd\n",
    "import matplotlib.pyplot as plt\n",
    "%matplotlib inline"
   ]
  },
  {
   "cell_type": "code",
   "execution_count": 37,
   "id": "78cd1681",
   "metadata": {},
   "outputs": [
    {
     "data": {
      "text/html": [
       "<div>\n",
       "<style scoped>\n",
       "    .dataframe tbody tr th:only-of-type {\n",
       "        vertical-align: middle;\n",
       "    }\n",
       "\n",
       "    .dataframe tbody tr th {\n",
       "        vertical-align: top;\n",
       "    }\n",
       "\n",
       "    .dataframe thead th {\n",
       "        text-align: right;\n",
       "    }\n",
       "</style>\n",
       "<table border=\"1\" class=\"dataframe\">\n",
       "  <thead>\n",
       "    <tr style=\"text-align: right;\">\n",
       "      <th></th>\n",
       "      <th>Date</th>\n",
       "      <th>Open</th>\n",
       "      <th>High</th>\n",
       "      <th>Low</th>\n",
       "      <th>Close</th>\n",
       "      <th>Adj Close</th>\n",
       "      <th>Volume</th>\n",
       "    </tr>\n",
       "  </thead>\n",
       "  <tbody>\n",
       "    <tr>\n",
       "      <th>0</th>\n",
       "      <td>2018-02-05</td>\n",
       "      <td>262.000000</td>\n",
       "      <td>267.899994</td>\n",
       "      <td>250.029999</td>\n",
       "      <td>254.259995</td>\n",
       "      <td>254.259995</td>\n",
       "      <td>11896100.0</td>\n",
       "    </tr>\n",
       "    <tr>\n",
       "      <th>1</th>\n",
       "      <td>2018-02-06</td>\n",
       "      <td>247.699997</td>\n",
       "      <td>266.700012</td>\n",
       "      <td>245.000000</td>\n",
       "      <td>265.720001</td>\n",
       "      <td>265.720001</td>\n",
       "      <td>12595800.0</td>\n",
       "    </tr>\n",
       "    <tr>\n",
       "      <th>2</th>\n",
       "      <td>2018-02-07</td>\n",
       "      <td>266.579987</td>\n",
       "      <td>272.450012</td>\n",
       "      <td>264.329987</td>\n",
       "      <td>264.559998</td>\n",
       "      <td>264.559998</td>\n",
       "      <td>8981500.0</td>\n",
       "    </tr>\n",
       "    <tr>\n",
       "      <th>3</th>\n",
       "      <td>2018-02-08</td>\n",
       "      <td>267.079987</td>\n",
       "      <td>267.619995</td>\n",
       "      <td>250.000000</td>\n",
       "      <td>250.100006</td>\n",
       "      <td>250.100006</td>\n",
       "      <td>9306700.0</td>\n",
       "    </tr>\n",
       "    <tr>\n",
       "      <th>4</th>\n",
       "      <td>2018-02-09</td>\n",
       "      <td>253.850006</td>\n",
       "      <td>255.800003</td>\n",
       "      <td>236.110001</td>\n",
       "      <td>249.470001</td>\n",
       "      <td>249.470001</td>\n",
       "      <td>16906900.0</td>\n",
       "    </tr>\n",
       "  </tbody>\n",
       "</table>\n",
       "</div>"
      ],
      "text/plain": [
       "        Date        Open        High         Low       Close   Adj Close  \\\n",
       "0 2018-02-05  262.000000  267.899994  250.029999  254.259995  254.259995   \n",
       "1 2018-02-06  247.699997  266.700012  245.000000  265.720001  265.720001   \n",
       "2 2018-02-07  266.579987  272.450012  264.329987  264.559998  264.559998   \n",
       "3 2018-02-08  267.079987  267.619995  250.000000  250.100006  250.100006   \n",
       "4 2018-02-09  253.850006  255.800003  236.110001  249.470001  249.470001   \n",
       "\n",
       "       Volume  \n",
       "0  11896100.0  \n",
       "1  12595800.0  \n",
       "2   8981500.0  \n",
       "3   9306700.0  \n",
       "4  16906900.0  "
      ]
     },
     "execution_count": 37,
     "metadata": {},
     "output_type": "execute_result"
    }
   ],
   "source": [
    "dataset_train = pd.read_excel(\"Stock_Price_data_set.xlsx\")\n",
    "dataset_train.head()"
   ]
  },
  {
   "cell_type": "code",
   "execution_count": 38,
   "id": "8497eacb",
   "metadata": {},
   "outputs": [
    {
     "name": "stdout",
     "output_type": "stream",
     "text": [
      "[[262.      ]\n",
      " [247.699997]\n",
      " [266.579987]\n",
      " ...\n",
      " [448.25    ]\n",
      " [421.440002]\n",
      " [407.309998]]\n",
      "(1009, 1)\n"
     ]
    }
   ],
   "source": [
    "training_set = dataset_train.iloc[:,1:2].values\n",
    "print(training_set)\n",
    "print(training_set.shape)"
   ]
  },
  {
   "cell_type": "code",
   "execution_count": 39,
   "id": "5acebccc",
   "metadata": {},
   "outputs": [
    {
     "data": {
      "text/plain": [
       "array([[0.06125254],\n",
       "       [0.03005911],\n",
       "       [0.07124314],\n",
       "       ...,\n",
       "       [0.46753051],\n",
       "       [0.4090483 ],\n",
       "       [0.3782257 ]])"
      ]
     },
     "execution_count": 39,
     "metadata": {},
     "output_type": "execute_result"
    }
   ],
   "source": [
    "from sklearn.preprocessing import MinMaxScaler\n",
    "\n",
    "scaler = MinMaxScaler(feature_range = (0,1))\n",
    "scaled_training_set = scaler.fit_transform(training_set)\n",
    "\n",
    "scaled_training_set\n"
   ]
  },
  {
   "cell_type": "code",
   "execution_count": 40,
   "id": "90f42a9c",
   "metadata": {},
   "outputs": [],
   "source": [
    "x_train = []\n",
    "y_train = []\n",
    "for i in range(60,1009):\n",
    "    x_train.append(scaled_training_set[i-60:i, 0])\n",
    "    y_train.append(scaled_training_set[i, 0])\n",
    "x_train = np.array(x_train)\n",
    "y_train = np.array(y_train)"
   ]
  },
  {
   "cell_type": "code",
   "execution_count": 41,
   "id": "6849d392",
   "metadata": {},
   "outputs": [
    {
     "name": "stdout",
     "output_type": "stream",
     "text": [
      "(949, 60)\n",
      "(949,)\n"
     ]
    }
   ],
   "source": [
    "print(x_train.shape)\n",
    "print(y_train.shape)"
   ]
  },
  {
   "cell_type": "code",
   "execution_count": 42,
   "id": "114a546a",
   "metadata": {},
   "outputs": [
    {
     "data": {
      "text/plain": [
       "(949, 60, 1)"
      ]
     },
     "execution_count": 42,
     "metadata": {},
     "output_type": "execute_result"
    }
   ],
   "source": [
    "x_train = np.reshape(x_train,(x_train.shape[0],x_train.shape[1],1))\n",
    "\n",
    "x_train.shape"
   ]
  },
  {
   "cell_type": "code",
   "execution_count": 43,
   "id": "a903e1b6",
   "metadata": {},
   "outputs": [],
   "source": [
    "from keras.models import Sequential\n",
    "from keras.layers import LSTM\n",
    "from keras.layers import Dense\n",
    "from keras.layers import Dropout"
   ]
  },
  {
   "cell_type": "code",
   "execution_count": 44,
   "id": "d3b5cf65",
   "metadata": {},
   "outputs": [],
   "source": [
    "regressor = Sequential()\n",
    "\n",
    "regressor.add(LSTM(units= 50 , return_sequences =True, input_shape = (x_train.shape[1],1)))\n",
    "regressor.add(Dropout(0.2))\n",
    "\n",
    "regressor.add(LSTM(units = 50 , return_sequences = True))\n",
    "regressor.add(Dropout(0.2))\n",
    "\n",
    "regressor.add(LSTM(units = 50 , return_sequences = True))\n",
    "regressor.add(Dropout(0.2))\n",
    "\n",
    "regressor.add(LSTM(units = 50 , return_sequences = True))\n",
    "regressor.add(Dropout(0.2))\n",
    "\n",
    "regressor.add(LSTM(units = 50))\n",
    "regressor.add(Dropout(0.2))\n",
    "\n",
    "regressor.add(Dense(units=1))"
   ]
  },
  {
   "cell_type": "code",
   "execution_count": 53,
   "id": "86a311a6",
   "metadata": {
    "scrolled": false
   },
   "outputs": [
    {
     "name": "stdout",
     "output_type": "stream",
     "text": [
      "Epoch 1/100\n",
      "30/30 [==============================] - 11s 69ms/step - loss: 0.0020\n",
      "Epoch 2/100\n",
      "30/30 [==============================] - 2s 69ms/step - loss: 0.0018\n",
      "Epoch 3/100\n",
      "30/30 [==============================] - 2s 69ms/step - loss: 0.0018\n",
      "Epoch 4/100\n",
      "30/30 [==============================] - 2s 68ms/step - loss: 0.0019\n",
      "Epoch 5/100\n",
      "30/30 [==============================] - 2s 69ms/step - loss: 0.0020\n",
      "Epoch 6/100\n",
      "30/30 [==============================] - 2s 69ms/step - loss: 0.0019\n",
      "Epoch 7/100\n",
      "30/30 [==============================] - 2s 69ms/step - loss: 0.0020\n",
      "Epoch 8/100\n",
      "30/30 [==============================] - 2s 69ms/step - loss: 0.0019\n",
      "Epoch 9/100\n",
      "30/30 [==============================] - 2s 68ms/step - loss: 0.0020\n",
      "Epoch 10/100\n",
      "30/30 [==============================] - 2s 70ms/step - loss: 0.0018\n",
      "Epoch 11/100\n",
      "30/30 [==============================] - 2s 69ms/step - loss: 0.0020\n",
      "Epoch 12/100\n",
      "30/30 [==============================] - 3s 85ms/step - loss: 0.0015\n",
      "Epoch 13/100\n",
      "30/30 [==============================] - 3s 102ms/step - loss: 0.0020\n",
      "Epoch 14/100\n",
      "30/30 [==============================] - 3s 98ms/step - loss: 0.0021\n",
      "Epoch 15/100\n",
      "30/30 [==============================] - 3s 108ms/step - loss: 0.0019\n",
      "Epoch 16/100\n",
      "30/30 [==============================] - 3s 106ms/step - loss: 0.0019\n",
      "Epoch 17/100\n",
      "30/30 [==============================] - 3s 105ms/step - loss: 0.0017\n",
      "Epoch 18/100\n",
      "30/30 [==============================] - 3s 101ms/step - loss: 0.0017\n",
      "Epoch 19/100\n",
      "30/30 [==============================] - 3s 98ms/step - loss: 0.0017\n",
      "Epoch 20/100\n",
      "30/30 [==============================] - 3s 97ms/step - loss: 0.0015\n",
      "Epoch 21/100\n",
      "30/30 [==============================] - 3s 98ms/step - loss: 0.0016\n",
      "Epoch 22/100\n",
      "30/30 [==============================] - 3s 101ms/step - loss: 0.0016\n",
      "Epoch 23/100\n",
      "30/30 [==============================] - 3s 102ms/step - loss: 0.0017\n",
      "Epoch 24/100\n",
      "30/30 [==============================] - 3s 100ms/step - loss: 0.0016\n",
      "Epoch 25/100\n",
      "30/30 [==============================] - 3s 105ms/step - loss: 0.0014\n",
      "Epoch 26/100\n",
      "30/30 [==============================] - 3s 101ms/step - loss: 0.0017\n",
      "Epoch 27/100\n",
      "30/30 [==============================] - 3s 106ms/step - loss: 0.0014\n",
      "Epoch 28/100\n",
      "30/30 [==============================] - 3s 99ms/step - loss: 0.0016\n",
      "Epoch 29/100\n",
      "30/30 [==============================] - 3s 99ms/step - loss: 0.0016\n",
      "Epoch 30/100\n",
      "30/30 [==============================] - 3s 95ms/step - loss: 0.0018\n",
      "Epoch 31/100\n",
      "30/30 [==============================] - 3s 108ms/step - loss: 0.0017\n",
      "Epoch 32/100\n",
      "30/30 [==============================] - 3s 97ms/step - loss: 0.0015\n",
      "Epoch 33/100\n",
      "30/30 [==============================] - 3s 99ms/step - loss: 0.0015\n",
      "Epoch 34/100\n",
      "30/30 [==============================] - 3s 96ms/step - loss: 0.0016\n",
      "Epoch 35/100\n",
      "30/30 [==============================] - 3s 95ms/step - loss: 0.0019\n",
      "Epoch 36/100\n",
      "30/30 [==============================] - 3s 96ms/step - loss: 0.0019\n",
      "Epoch 37/100\n",
      "30/30 [==============================] - 3s 95ms/step - loss: 0.0013\n",
      "Epoch 38/100\n",
      "30/30 [==============================] - 3s 95ms/step - loss: 0.0015\n",
      "Epoch 39/100\n",
      "30/30 [==============================] - 3s 98ms/step - loss: 0.0016\n",
      "Epoch 40/100\n",
      "30/30 [==============================] - 3s 96ms/step - loss: 0.0017\n",
      "Epoch 41/100\n",
      "30/30 [==============================] - 3s 97ms/step - loss: 0.0017\n",
      "Epoch 42/100\n",
      "30/30 [==============================] - 3s 96ms/step - loss: 0.0014\n",
      "Epoch 43/100\n",
      "30/30 [==============================] - 3s 97ms/step - loss: 0.0015\n",
      "Epoch 44/100\n",
      "30/30 [==============================] - 3s 98ms/step - loss: 0.0015\n",
      "Epoch 45/100\n",
      "30/30 [==============================] - 3s 97ms/step - loss: 0.0015\n",
      "Epoch 46/100\n",
      "30/30 [==============================] - 3s 96ms/step - loss: 0.0016\n",
      "Epoch 47/100\n",
      "30/30 [==============================] - 3s 95ms/step - loss: 0.0015\n",
      "Epoch 48/100\n",
      "30/30 [==============================] - 3s 96ms/step - loss: 0.0013\n",
      "Epoch 49/100\n",
      "30/30 [==============================] - 3s 101ms/step - loss: 0.0015\n",
      "Epoch 50/100\n",
      "30/30 [==============================] - 3s 95ms/step - loss: 0.0015\n",
      "Epoch 51/100\n",
      "30/30 [==============================] - 3s 102ms/step - loss: 0.0014\n",
      "Epoch 52/100\n",
      "30/30 [==============================] - 3s 95ms/step - loss: 0.0015\n",
      "Epoch 53/100\n",
      "30/30 [==============================] - 3s 114ms/step - loss: 0.0014\n",
      "Epoch 54/100\n",
      "30/30 [==============================] - 3s 110ms/step - loss: 0.0015\n",
      "Epoch 55/100\n",
      "30/30 [==============================] - 3s 109ms/step - loss: 0.0015\n",
      "Epoch 56/100\n",
      "30/30 [==============================] - 3s 104ms/step - loss: 0.0014\n",
      "Epoch 57/100\n",
      "30/30 [==============================] - 4s 135ms/step - loss: 0.0016\n",
      "Epoch 58/100\n",
      "30/30 [==============================] - 4s 125ms/step - loss: 0.0017\n",
      "Epoch 59/100\n",
      "30/30 [==============================] - 3s 114ms/step - loss: 0.0014\n",
      "Epoch 60/100\n",
      "30/30 [==============================] - 3s 99ms/step - loss: 0.0014\n",
      "Epoch 61/100\n",
      "30/30 [==============================] - 3s 107ms/step - loss: 0.0014\n",
      "Epoch 62/100\n",
      "30/30 [==============================] - 4s 119ms/step - loss: 0.0017\n",
      "Epoch 63/100\n",
      "30/30 [==============================] - 3s 108ms/step - loss: 0.0015\n",
      "Epoch 64/100\n",
      "30/30 [==============================] - 3s 97ms/step - loss: 0.0014\n",
      "Epoch 65/100\n",
      "30/30 [==============================] - 3s 96ms/step - loss: 0.0013\n",
      "Epoch 66/100\n",
      "30/30 [==============================] - 3s 94ms/step - loss: 0.0014\n",
      "Epoch 67/100\n",
      "30/30 [==============================] - 3s 96ms/step - loss: 0.0013\n",
      "Epoch 68/100\n",
      "30/30 [==============================] - 3s 95ms/step - loss: 0.0014\n",
      "Epoch 69/100\n",
      "30/30 [==============================] - 3s 101ms/step - loss: 0.0016\n",
      "Epoch 70/100\n",
      "30/30 [==============================] - 3s 105ms/step - loss: 0.0015\n",
      "Epoch 71/100\n",
      "30/30 [==============================] - 3s 98ms/step - loss: 0.0017\n",
      "Epoch 72/100\n",
      "30/30 [==============================] - 3s 95ms/step - loss: 0.0014\n",
      "Epoch 73/100\n",
      "30/30 [==============================] - 3s 97ms/step - loss: 0.0016\n",
      "Epoch 74/100\n",
      "30/30 [==============================] - 3s 97ms/step - loss: 0.0014\n",
      "Epoch 75/100\n",
      "30/30 [==============================] - 3s 92ms/step - loss: 0.0014\n",
      "Epoch 76/100\n",
      "30/30 [==============================] - 3s 96ms/step - loss: 0.0014\n",
      "Epoch 77/100\n",
      "30/30 [==============================] - 3s 98ms/step - loss: 0.0013\n",
      "Epoch 78/100\n",
      "30/30 [==============================] - 3s 98ms/step - loss: 0.0015\n",
      "Epoch 79/100\n",
      "30/30 [==============================] - 3s 98ms/step - loss: 0.0013\n",
      "Epoch 80/100\n",
      "30/30 [==============================] - 3s 110ms/step - loss: 0.0013\n",
      "Epoch 81/100\n",
      "30/30 [==============================] - 3s 109ms/step - loss: 0.0013\n",
      "Epoch 82/100\n",
      "30/30 [==============================] - 3s 109ms/step - loss: 0.0013\n",
      "Epoch 83/100\n",
      "30/30 [==============================] - 3s 105ms/step - loss: 0.0014\n",
      "Epoch 84/100\n",
      "30/30 [==============================] - 3s 109ms/step - loss: 0.0014\n",
      "Epoch 85/100\n",
      "30/30 [==============================] - 3s 105ms/step - loss: 0.0015\n",
      "Epoch 86/100\n",
      "30/30 [==============================] - 3s 102ms/step - loss: 0.0012\n",
      "Epoch 87/100\n",
      "30/30 [==============================] - 3s 101ms/step - loss: 0.0012\n",
      "Epoch 88/100\n",
      "30/30 [==============================] - 3s 100ms/step - loss: 0.0013\n",
      "Epoch 89/100\n",
      "30/30 [==============================] - 3s 100ms/step - loss: 0.0013\n",
      "Epoch 90/100\n",
      "30/30 [==============================] - 3s 101ms/step - loss: 0.0013\n",
      "Epoch 91/100\n",
      "30/30 [==============================] - 3s 103ms/step - loss: 0.0014\n",
      "Epoch 92/100\n",
      "30/30 [==============================] - 3s 96ms/step - loss: 0.0013\n",
      "Epoch 93/100\n",
      "30/30 [==============================] - 3s 97ms/step - loss: 0.0014\n",
      "Epoch 94/100\n",
      "30/30 [==============================] - 3s 104ms/step - loss: 0.0013\n",
      "Epoch 95/100\n",
      "30/30 [==============================] - 3s 104ms/step - loss: 0.0013\n",
      "Epoch 96/100\n",
      "30/30 [==============================] - 3s 110ms/step - loss: 0.0013\n",
      "Epoch 97/100\n",
      "30/30 [==============================] - 3s 102ms/step - loss: 0.0013\n",
      "Epoch 98/100\n",
      "30/30 [==============================] - 3s 99ms/step - loss: 0.0013\n",
      "Epoch 99/100\n",
      "30/30 [==============================] - 3s 101ms/step - loss: 0.0012\n",
      "Epoch 100/100\n"
     ]
    },
    {
     "name": "stdout",
     "output_type": "stream",
     "text": [
      "30/30 [==============================] - 3s 102ms/step - loss: 0.0013\n"
     ]
    },
    {
     "data": {
      "text/plain": [
       "<keras.callbacks.History at 0x1f14a70d2b0>"
      ]
     },
     "execution_count": 53,
     "metadata": {},
     "output_type": "execute_result"
    }
   ],
   "source": [
    "regressor.compile(optimizer = 'adam', loss = 'mean_squared_error')\n",
    "regressor.fit(x_train , y_train , epochs=100, batch_size=32)"
   ]
  },
  {
   "cell_type": "code",
   "execution_count": 54,
   "id": "dfa45a5b",
   "metadata": {},
   "outputs": [],
   "source": [
    "dataset_test = pd.read_excel(\"Stock_Price_data_set.xlsx\")\n",
    "actual_stock_price = dataset_test.iloc[:,1:2].values"
   ]
  },
  {
   "cell_type": "code",
   "execution_count": 55,
   "id": "dd2360af",
   "metadata": {},
   "outputs": [],
   "source": [
    "dataset_total = pd.concat((dataset_train['Open'],dataset_test['Open']),axis=0)\n",
    "inputs = dataset_total[len(dataset_total)-len(dataset_test)-60:].values\n",
    "                          \n",
    "\n",
    "inputs = inputs.reshape(-1,1)\n",
    "inputs = scaler.transform(inputs)\n",
    "                         \n",
    "x_test = []\n",
    "for i in range(60,1009):\n",
    "        x_test.append(inputs[i-60:i,0])\n",
    "x_test = np.array(x_test)\n",
    "x_test = np.reshape(x_test,(x_test.shape[0], x_test.shape[1],1))\n",
    "                         \n",
    "                        "
   ]
  },
  {
   "cell_type": "code",
   "execution_count": 56,
   "id": "5d3d4d03",
   "metadata": {},
   "outputs": [
    {
     "name": "stdout",
     "output_type": "stream",
     "text": [
      "30/30 [==============================] - 4s 24ms/step\n"
     ]
    }
   ],
   "source": [
    "predicted_stock_price = regressor.predict(x_test)\n",
    "predicted_stock_price = scaler.inverse_transform(predicted_stock_price)\n"
   ]
  },
  {
   "cell_type": "code",
   "execution_count": 57,
   "id": "7e97509e",
   "metadata": {},
   "outputs": [
    {
     "data": {
      "text/plain": [
       "<matplotlib.legend.Legend at 0x1f111b28b50>"
      ]
     },
     "execution_count": 57,
     "metadata": {},
     "output_type": "execute_result"
    },
    {
     "data": {
      "image/png": "[encoded data removed]",
      "text/plain": [
       "<Figure size 432x288 with 1 Axes>"
      ]
     },
     "metadata": {
      "needs_background": "light"
     },
     "output_type": "display_data"
    }
   ],
   "source": [
    "plt.plot(actual_stock_price , color ='red',label='Actual Stock Price')\n",
    "plt.plot(predicted_stock_price, color ='blue', label='Predicted Stock Price')\n",
    "plt.title('Stock Price Prediction')\n",
    "plt.xlabel('Time')\n",
    "plt.ylabel('Stock Price')\n",
    "plt.legend()"
   ]
  },
  {
   "cell_type": "code",
   "execution_count": null,
   "id": "aa1cbd2d",
   "metadata": {},
   "outputs": [],
   "source": []
  },
  {
   "cell_type": "code",
   "execution_count": null,
   "id": "554f8ea9",
   "metadata": {},
   "outputs": [],
   "source": []
  }
 ],
 "metadata": {
  "kernelspec": {
   "display_name": "Python 3 (ipykernel)",
   "language": "python",
   "name": "python3"
  },
  "language_info": {
   "codemirror_mode": {
    "name": "ipython",
    "version": 3
   },
   "file_extension": ".py",
   "mimetype": "text/x-python",
   "name": "python",
   "nbconvert_exporter": "python",
   "pygments_lexer": "ipython3",
   "version": "3.9.12"
  }
 },
 "nbformat": 4,
 "nbformat_minor": 5
}
